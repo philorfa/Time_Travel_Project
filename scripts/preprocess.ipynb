{
 "cells": [
  {
   "cell_type": "code",
   "execution_count": 101,
   "metadata": {},
   "outputs": [],
   "source": [
    "import pandas as pd\n",
    "import matplotlib.pyplot as plt\n",
    "import os\n",
    "import seaborn as sns\n",
    "import numpy as np\n",
    "import datetime as dt"
   ]
  },
  {
   "cell_type": "code",
   "execution_count": 102,
   "metadata": {},
   "outputs": [],
   "source": [
    "loc = 'C:/Users/User/Desktop/time-travel/Stocks/'\n",
    "os.chdir(loc)\n",
    "filelist = os.listdir()\n",
    "\n",
    "data = []\n",
    "files = [x for x in filelist if x.endswith('.txt')] #  read files endswith .txt\n",
    "files = [x for x in files if os.path.getsize(x) > 0] # remove file with size=0"
   ]
  },
  {
   "cell_type": "code",
   "execution_count": 103,
   "metadata": {},
   "outputs": [
    {
     "name": "stdout",
     "output_type": "stream",
     "text": [
      "(14887665, 8)\n"
     ]
    }
   ],
   "source": [
    "for texts in files:\n",
    "    df = pd.read_csv(texts)\n",
    "    df['stock'] = texts.replace('.us.txt', '') #replace .us.txt with ''\n",
    "    data.append(df)\n",
    "data = pd.concat(data, ignore_index=True)\n",
    "data.reset_index(inplace=True, drop=True) \n",
    "\n",
    "print(data.shape)"
   ]
  },
  {
   "cell_type": "code",
   "execution_count": 104,
   "metadata": {},
   "outputs": [],
   "source": [
    "data[\"Volume\"] = data[\"Volume\"]/10 # 10% , respect space time"
   ]
  },
  {
   "cell_type": "code",
   "execution_count": 105,
   "metadata": {},
   "outputs": [],
   "source": [
    "data = data.drop(data.loc[(data.Open<=0) | (data.Low<=0)|(data.High<=0)|(data.Close<=0)|(data.Volume<1)].index) # clean data"
   ]
  },
  {
   "cell_type": "code",
   "execution_count": 106,
   "metadata": {},
   "outputs": [],
   "source": [
    "data['Date'] = pd.to_datetime(data.Date)\n",
    "data = data.sort_values(by='Date')\n",
    "data['stock']  =  data['stock'].str.upper()\n",
    "data.reset_index(inplace=True, drop=True)"
   ]
  },
  {
   "cell_type": "code",
   "execution_count": 107,
   "metadata": {},
   "outputs": [
    {
     "name": "stdout",
     "output_type": "stream",
     "text": [
      "0    14847108\n",
      "Name: OpenInt, dtype: int64\n"
     ]
    }
   ],
   "source": [
    "print(data[\"OpenInt\"].value_counts())\n",
    "data = data.drop(columns=['OpenInt'])"
   ]
  },
  {
   "cell_type": "code",
   "execution_count": 108,
   "metadata": {},
   "outputs": [
    {
     "data": {
      "text/plain": [
       "7163"
      ]
     },
     "execution_count": 108,
     "metadata": {},
     "output_type": "execute_result"
    }
   ],
   "source": [
    "data['stock'].nunique()"
   ]
  },
  {
   "cell_type": "code",
   "execution_count": 109,
   "metadata": {},
   "outputs": [],
   "source": [
    "#Set daily tranactions profit\n",
    "\n",
    "Buy_open_sell_high = data['High']*0.99 - data['Open']*1.01\n",
    "Buy_low_sell_close = data['Close']*0.99 - data['Low']*1.01\n",
    "data['OP_HI'] = Buy_open_sell_high\n",
    "data['LO_CL'] = Buy_low_sell_close\n",
    "data['profit'] = data[['OP_HI', 'LO_CL']].max(axis=1)"
   ]
  },
  {
   "cell_type": "code",
   "execution_count": 110,
   "metadata": {},
   "outputs": [],
   "source": [
    "#Remove outliers for High and Low\n",
    "\n",
    "def is_outlier(s):\n",
    "    lower_limit = s.mean() - (s.std() * 3)\n",
    "    upper_limit = s.mean() + (s.std() * 3)\n",
    "    return ~s.between(lower_limit, upper_limit)\n",
    "\n",
    "data_clean = data[~data.groupby('stock')['High'].apply(is_outlier)]\n",
    "data_clean = data[~data.groupby('stock')['Low'].apply(is_outlier)]"
   ]
  },
  {
   "cell_type": "code",
   "execution_count": 111,
   "metadata": {},
   "outputs": [
    {
     "data": {
      "text/html": [
       "<div>\n",
       "<style scoped>\n",
       "    .dataframe tbody tr th:only-of-type {\n",
       "        vertical-align: middle;\n",
       "    }\n",
       "\n",
       "    .dataframe tbody tr th {\n",
       "        vertical-align: top;\n",
       "    }\n",
       "\n",
       "    .dataframe thead th {\n",
       "        text-align: right;\n",
       "    }\n",
       "</style>\n",
       "<table border=\"1\" class=\"dataframe\">\n",
       "  <thead>\n",
       "    <tr style=\"text-align: right;\">\n",
       "      <th></th>\n",
       "      <th>Date</th>\n",
       "      <th>Open</th>\n",
       "      <th>High</th>\n",
       "      <th>Low</th>\n",
       "      <th>Close</th>\n",
       "      <th>Volume</th>\n",
       "      <th>stock</th>\n",
       "      <th>OP_HI</th>\n",
       "      <th>LO_CL</th>\n",
       "      <th>profit</th>\n",
       "    </tr>\n",
       "  </thead>\n",
       "  <tbody>\n",
       "    <tr>\n",
       "      <th>0</th>\n",
       "      <td>1962-01-02</td>\n",
       "      <td>0.6277</td>\n",
       "      <td>0.6362</td>\n",
       "      <td>0.6201</td>\n",
       "      <td>0.6201</td>\n",
       "      <td>257557.9</td>\n",
       "      <td>GE</td>\n",
       "      <td>-0.004139</td>\n",
       "      <td>-0.012402</td>\n",
       "      <td>-0.004139</td>\n",
       "    </tr>\n",
       "    <tr>\n",
       "      <th>1</th>\n",
       "      <td>1962-01-02</td>\n",
       "      <td>6.4130</td>\n",
       "      <td>6.4130</td>\n",
       "      <td>6.3378</td>\n",
       "      <td>6.3378</td>\n",
       "      <td>46705.6</td>\n",
       "      <td>IBM</td>\n",
       "      <td>-0.128260</td>\n",
       "      <td>-0.126756</td>\n",
       "      <td>-0.126756</td>\n",
       "    </tr>\n",
       "    <tr>\n",
       "      <th>2</th>\n",
       "      <td>1962-01-03</td>\n",
       "      <td>0.6201</td>\n",
       "      <td>0.6201</td>\n",
       "      <td>0.6122</td>\n",
       "      <td>0.6201</td>\n",
       "      <td>176474.9</td>\n",
       "      <td>GE</td>\n",
       "      <td>-0.012402</td>\n",
       "      <td>-0.004423</td>\n",
       "      <td>-0.004423</td>\n",
       "    </tr>\n",
       "    <tr>\n",
       "      <th>3</th>\n",
       "      <td>1962-01-03</td>\n",
       "      <td>6.3378</td>\n",
       "      <td>6.3963</td>\n",
       "      <td>6.3378</td>\n",
       "      <td>6.3963</td>\n",
       "      <td>35029.4</td>\n",
       "      <td>IBM</td>\n",
       "      <td>-0.068841</td>\n",
       "      <td>-0.068841</td>\n",
       "      <td>-0.068841</td>\n",
       "    </tr>\n",
       "    <tr>\n",
       "      <th>4</th>\n",
       "      <td>1962-01-04</td>\n",
       "      <td>0.6201</td>\n",
       "      <td>0.6201</td>\n",
       "      <td>0.6037</td>\n",
       "      <td>0.6122</td>\n",
       "      <td>219401.0</td>\n",
       "      <td>GE</td>\n",
       "      <td>-0.012402</td>\n",
       "      <td>-0.003659</td>\n",
       "      <td>-0.003659</td>\n",
       "    </tr>\n",
       "    <tr>\n",
       "      <th>...</th>\n",
       "      <td>...</td>\n",
       "      <td>...</td>\n",
       "      <td>...</td>\n",
       "      <td>...</td>\n",
       "      <td>...</td>\n",
       "      <td>...</td>\n",
       "      <td>...</td>\n",
       "      <td>...</td>\n",
       "      <td>...</td>\n",
       "      <td>...</td>\n",
       "    </tr>\n",
       "    <tr>\n",
       "      <th>14847103</th>\n",
       "      <td>2017-11-10</td>\n",
       "      <td>28.0300</td>\n",
       "      <td>28.4300</td>\n",
       "      <td>28.0300</td>\n",
       "      <td>28.1200</td>\n",
       "      <td>15406.1</td>\n",
       "      <td>GTY</td>\n",
       "      <td>-0.164600</td>\n",
       "      <td>-0.471500</td>\n",
       "      <td>-0.164600</td>\n",
       "    </tr>\n",
       "    <tr>\n",
       "      <th>14847104</th>\n",
       "      <td>2017-11-10</td>\n",
       "      <td>8.6384</td>\n",
       "      <td>10.4900</td>\n",
       "      <td>8.6100</td>\n",
       "      <td>10.4900</td>\n",
       "      <td>6652.0</td>\n",
       "      <td>GTXI</td>\n",
       "      <td>1.660316</td>\n",
       "      <td>1.689000</td>\n",
       "      <td>1.689000</td>\n",
       "    </tr>\n",
       "    <tr>\n",
       "      <th>14847105</th>\n",
       "      <td>2017-11-10</td>\n",
       "      <td>5.5690</td>\n",
       "      <td>5.5700</td>\n",
       "      <td>5.5200</td>\n",
       "      <td>5.5400</td>\n",
       "      <td>389.0</td>\n",
       "      <td>WILC</td>\n",
       "      <td>-0.110390</td>\n",
       "      <td>-0.090600</td>\n",
       "      <td>-0.090600</td>\n",
       "    </tr>\n",
       "    <tr>\n",
       "      <th>14847106</th>\n",
       "      <td>2017-11-10</td>\n",
       "      <td>1.6000</td>\n",
       "      <td>1.6800</td>\n",
       "      <td>1.5800</td>\n",
       "      <td>1.6300</td>\n",
       "      <td>11988.1</td>\n",
       "      <td>TWNKW</td>\n",
       "      <td>0.047200</td>\n",
       "      <td>0.017900</td>\n",
       "      <td>0.047200</td>\n",
       "    </tr>\n",
       "    <tr>\n",
       "      <th>14847107</th>\n",
       "      <td>2017-11-10</td>\n",
       "      <td>11.6800</td>\n",
       "      <td>13.1500</td>\n",
       "      <td>11.3043</td>\n",
       "      <td>12.4600</td>\n",
       "      <td>88558.7</td>\n",
       "      <td>ZYNE</td>\n",
       "      <td>1.221700</td>\n",
       "      <td>0.918057</td>\n",
       "      <td>1.221700</td>\n",
       "    </tr>\n",
       "  </tbody>\n",
       "</table>\n",
       "<p>14772729 rows × 10 columns</p>\n",
       "</div>"
      ],
      "text/plain": [
       "               Date     Open     High      Low    Close    Volume  stock  \\\n",
       "0        1962-01-02   0.6277   0.6362   0.6201   0.6201  257557.9     GE   \n",
       "1        1962-01-02   6.4130   6.4130   6.3378   6.3378   46705.6    IBM   \n",
       "2        1962-01-03   0.6201   0.6201   0.6122   0.6201  176474.9     GE   \n",
       "3        1962-01-03   6.3378   6.3963   6.3378   6.3963   35029.4    IBM   \n",
       "4        1962-01-04   0.6201   0.6201   0.6037   0.6122  219401.0     GE   \n",
       "...             ...      ...      ...      ...      ...       ...    ...   \n",
       "14847103 2017-11-10  28.0300  28.4300  28.0300  28.1200   15406.1    GTY   \n",
       "14847104 2017-11-10   8.6384  10.4900   8.6100  10.4900    6652.0   GTXI   \n",
       "14847105 2017-11-10   5.5690   5.5700   5.5200   5.5400     389.0   WILC   \n",
       "14847106 2017-11-10   1.6000   1.6800   1.5800   1.6300   11988.1  TWNKW   \n",
       "14847107 2017-11-10  11.6800  13.1500  11.3043  12.4600   88558.7   ZYNE   \n",
       "\n",
       "             OP_HI     LO_CL    profit  \n",
       "0        -0.004139 -0.012402 -0.004139  \n",
       "1        -0.128260 -0.126756 -0.126756  \n",
       "2        -0.012402 -0.004423 -0.004423  \n",
       "3        -0.068841 -0.068841 -0.068841  \n",
       "4        -0.012402 -0.003659 -0.003659  \n",
       "...            ...       ...       ...  \n",
       "14847103 -0.164600 -0.471500 -0.164600  \n",
       "14847104  1.660316  1.689000  1.689000  \n",
       "14847105 -0.110390 -0.090600 -0.090600  \n",
       "14847106  0.047200  0.017900  0.047200  \n",
       "14847107  1.221700  0.918057  1.221700  \n",
       "\n",
       "[14772729 rows x 10 columns]"
      ]
     },
     "execution_count": 111,
     "metadata": {},
     "output_type": "execute_result"
    }
   ],
   "source": [
    "data_clean"
   ]
  },
  {
   "cell_type": "code",
   "execution_count": 112,
   "metadata": {},
   "outputs": [],
   "source": [
    "High = data_clean.groupby(['stock']).agg({'High': ['mean', 'std']})\n",
    "High=High.rename(columns={\"mean\": \"high_mean\", \"std\": \"high_std\"})\n",
    "\n",
    "Low = data_clean.groupby(['stock']).agg({'Low': ['mean', 'std']})\n",
    "Low=Low.rename(columns={\"mean\": \"low_mean\", \"std\": \"low_std\"})"
   ]
  },
  {
   "cell_type": "code",
   "execution_count": 113,
   "metadata": {},
   "outputs": [],
   "source": [
    "Stocks=pd.concat([High, Low], axis=1)"
   ]
  },
  {
   "cell_type": "code",
   "execution_count": 114,
   "metadata": {},
   "outputs": [
    {
     "data": {
      "text/html": [
       "<div>\n",
       "<style scoped>\n",
       "    .dataframe tbody tr th:only-of-type {\n",
       "        vertical-align: middle;\n",
       "    }\n",
       "\n",
       "    .dataframe tbody tr th {\n",
       "        vertical-align: top;\n",
       "    }\n",
       "\n",
       "    .dataframe thead tr th {\n",
       "        text-align: left;\n",
       "    }\n",
       "\n",
       "    .dataframe thead tr:last-of-type th {\n",
       "        text-align: right;\n",
       "    }\n",
       "</style>\n",
       "<table border=\"1\" class=\"dataframe\">\n",
       "  <thead>\n",
       "    <tr>\n",
       "      <th></th>\n",
       "      <th colspan=\"2\" halign=\"left\">High</th>\n",
       "      <th colspan=\"2\" halign=\"left\">Low</th>\n",
       "    </tr>\n",
       "    <tr>\n",
       "      <th></th>\n",
       "      <th>high_mean</th>\n",
       "      <th>high_std</th>\n",
       "      <th>low_mean</th>\n",
       "      <th>low_std</th>\n",
       "    </tr>\n",
       "    <tr>\n",
       "      <th>stock</th>\n",
       "      <th></th>\n",
       "      <th></th>\n",
       "      <th></th>\n",
       "      <th></th>\n",
       "    </tr>\n",
       "  </thead>\n",
       "  <tbody>\n",
       "    <tr>\n",
       "      <th>A</th>\n",
       "      <td>27.638731</td>\n",
       "      <td>11.980367</td>\n",
       "      <td>26.870007</td>\n",
       "      <td>11.701621</td>\n",
       "    </tr>\n",
       "    <tr>\n",
       "      <th>AA</th>\n",
       "      <td>24.726429</td>\n",
       "      <td>23.956769</td>\n",
       "      <td>24.032162</td>\n",
       "      <td>23.227892</td>\n",
       "    </tr>\n",
       "    <tr>\n",
       "      <th>AAAP</th>\n",
       "      <td>36.858587</td>\n",
       "      <td>9.360654</td>\n",
       "      <td>35.275316</td>\n",
       "      <td>9.055891</td>\n",
       "    </tr>\n",
       "    <tr>\n",
       "      <th>AABA</th>\n",
       "      <td>24.851730</td>\n",
       "      <td>15.682500</td>\n",
       "      <td>24.002056</td>\n",
       "      <td>15.159051</td>\n",
       "    </tr>\n",
       "    <tr>\n",
       "      <th>AAC</th>\n",
       "      <td>20.065225</td>\n",
       "      <td>10.194789</td>\n",
       "      <td>18.933637</td>\n",
       "      <td>9.670007</td>\n",
       "    </tr>\n",
       "    <tr>\n",
       "      <th>...</th>\n",
       "      <td>...</td>\n",
       "      <td>...</td>\n",
       "      <td>...</td>\n",
       "      <td>...</td>\n",
       "    </tr>\n",
       "    <tr>\n",
       "      <th>ZUMZ</th>\n",
       "      <td>23.951025</td>\n",
       "      <td>8.887726</td>\n",
       "      <td>22.947164</td>\n",
       "      <td>8.680691</td>\n",
       "    </tr>\n",
       "    <tr>\n",
       "      <th>ZVV</th>\n",
       "      <td>98.407500</td>\n",
       "      <td>3.465000</td>\n",
       "      <td>90.962500</td>\n",
       "      <td>11.704117</td>\n",
       "    </tr>\n",
       "    <tr>\n",
       "      <th>ZX</th>\n",
       "      <td>2.329210</td>\n",
       "      <td>1.236756</td>\n",
       "      <td>2.205517</td>\n",
       "      <td>1.166992</td>\n",
       "    </tr>\n",
       "    <tr>\n",
       "      <th>ZYME</th>\n",
       "      <td>9.234733</td>\n",
       "      <td>1.954402</td>\n",
       "      <td>8.811610</td>\n",
       "      <td>1.996126</td>\n",
       "    </tr>\n",
       "    <tr>\n",
       "      <th>ZYNE</th>\n",
       "      <td>13.992221</td>\n",
       "      <td>6.051420</td>\n",
       "      <td>12.862221</td>\n",
       "      <td>5.425969</td>\n",
       "    </tr>\n",
       "  </tbody>\n",
       "</table>\n",
       "<p>7151 rows × 4 columns</p>\n",
       "</div>"
      ],
      "text/plain": [
       "            High                   Low           \n",
       "       high_mean   high_std   low_mean    low_std\n",
       "stock                                            \n",
       "A      27.638731  11.980367  26.870007  11.701621\n",
       "AA     24.726429  23.956769  24.032162  23.227892\n",
       "AAAP   36.858587   9.360654  35.275316   9.055891\n",
       "AABA   24.851730  15.682500  24.002056  15.159051\n",
       "AAC    20.065225  10.194789  18.933637   9.670007\n",
       "...          ...        ...        ...        ...\n",
       "ZUMZ   23.951025   8.887726  22.947164   8.680691\n",
       "ZVV    98.407500   3.465000  90.962500  11.704117\n",
       "ZX      2.329210   1.236756   2.205517   1.166992\n",
       "ZYME    9.234733   1.954402   8.811610   1.996126\n",
       "ZYNE   13.992221   6.051420  12.862221   5.425969\n",
       "\n",
       "[7151 rows x 4 columns]"
      ]
     },
     "execution_count": 114,
     "metadata": {},
     "output_type": "execute_result"
    }
   ],
   "source": [
    "Stocks"
   ]
  },
  {
   "cell_type": "code",
   "execution_count": 115,
   "metadata": {},
   "outputs": [],
   "source": [
    "Stocks.columns =Stocks.columns.droplevel()"
   ]
  },
  {
   "cell_type": "code",
   "execution_count": 116,
   "metadata": {},
   "outputs": [],
   "source": [
    "# Set difference of means\n",
    "\n",
    "Stocks[\"diff\"]=Stocks[\"high_mean\"]-Stocks[\"low_mean\"]\n",
    "Stocks=Stocks.sort_values(by=['diff'],ascending=False)"
   ]
  },
  {
   "cell_type": "code",
   "execution_count": 117,
   "metadata": {},
   "outputs": [],
   "source": [
    "Stocks['Companies'] = Stocks.index"
   ]
  },
  {
   "cell_type": "code",
   "execution_count": 118,
   "metadata": {},
   "outputs": [],
   "source": [
    "top100_extracted=Stocks['Companies'][:100]\n",
    "top500_extracted=Stocks['Companies'][:500]"
   ]
  },
  {
   "cell_type": "code",
   "execution_count": 119,
   "metadata": {},
   "outputs": [],
   "source": [
    "#https://www.fool.com/investing/2017/12/05/the-30-largest-companies-on-the-stock-market.aspx\n",
    "\n",
    "top_comp = [\n",
    "    \"AAPL\",  # Apple\n",
    "    \"GOOG\", # Alphabet - Google\n",
    "    \"GOOGL\",  # Alphabet - Google\n",
    "    \"MSFT\",  # Microsoft\n",
    "    \"INTC\",  # Intel\n",
    "    \"AMZN\",  # Amazon\n",
    "    \"FB\",  # Facebook\n",
    "    \"BRK-A\", # Berkshire Hathaway\n",
    "    \"BRK-B\", # Berkshire Hathaway\n",
    "    \"BABA\", # Alibaba Group\n",
    "    \"JNJ\", # Johnson & Johnson\n",
    "    \"JPM\", # JPMorgan Chase & Co.\n",
    "    \"XOM\", # ExxonMobil\n",
    "    \"BAC\", # Bank of America\n",
    "    \"WMT\", # Wal-Mart Stores Inc.\n",
    "    \"WFC\", # Wells Fargo & Co.\n",
    "    \"RDS.A\", # Royal Dutch Shell plc\n",
    "    \"RDS.B\", # Royal Dutch Shell plc\n",
    "    \"V\",  # Visa Inc.\n",
    "    \"PG\", # Procter & Gamble Co.\n",
    "    \"BUD\",  # Anheuser-Busch Inbev\n",
    "    \"T\",  # AT&T Inc.\n",
    "    \"CVX\",  # Chevron Corporation\n",
    "    \"UNH\",  # UnitedHealth Group Inc.\n",
    "    \"PFE\",  # Pfizer Inc.\n",
    "    \"RHHBY\",  # Roche Holding Ltd.\n",
    "    \"CHL\",  # China Mobile\n",
    "    \"HD\",  # Home Depot\n",
    "    \"TSM\",  # Taiwan Semiconductor\n",
    "    \"VZ\",  # Verizon Communications\n",
    "    \"ORCL\",  # Oracle Corporation\n",
    "    \"C\",  # Citigroup Inc.\n",
    "    \"NVS\",  # Novartis\n",
    "]"
   ]
  },
  {
   "cell_type": "code",
   "execution_count": 120,
   "metadata": {},
   "outputs": [],
   "source": [
    "Companies_small=np.concatenate((top100_extracted, top_comp))\n",
    "Companies_large=np.concatenate((top500_extracted, top_comp))"
   ]
  },
  {
   "cell_type": "code",
   "execution_count": 121,
   "metadata": {},
   "outputs": [],
   "source": [
    "Companies_small=np.unique(Companies_small)\n",
    "Companies_large=np.unique(Companies_large)"
   ]
  },
  {
   "cell_type": "code",
   "execution_count": 122,
   "metadata": {},
   "outputs": [
    {
     "name": "stdout",
     "output_type": "stream",
     "text": [
      "130\n",
      "526\n"
     ]
    }
   ],
   "source": [
    "print(len(Companies_small))\n",
    "print(len(Companies_large))"
   ]
  },
  {
   "cell_type": "code",
   "execution_count": 123,
   "metadata": {},
   "outputs": [],
   "source": [
    "final_small=data[data['stock'].isin(Companies_small)]\n",
    "final_large=data[data['stock'].isin(Companies_large)]"
   ]
  },
  {
   "cell_type": "code",
   "execution_count": 124,
   "metadata": {},
   "outputs": [],
   "source": [
    "final_small.to_csv('final_small.csv') \n",
    "final_large.to_csv('final_large.csv')"
   ]
  },
  {
   "cell_type": "code",
   "execution_count": 125,
   "metadata": {},
   "outputs": [],
   "source": [
    "path='C:/Users/User/Desktop/time-travel/'"
   ]
  },
  {
   "cell_type": "code",
   "execution_count": 126,
   "metadata": {},
   "outputs": [],
   "source": [
    "final_small.to_csv(os.path.join(path,r'final_small.csv'))\n",
    "final_large.to_csv(os.path.join(path,r'final_large.csv'))"
   ]
  },
  {
   "cell_type": "code",
   "execution_count": null,
   "metadata": {},
   "outputs": [],
   "source": []
  }
 ],
 "metadata": {
  "kernelspec": {
   "display_name": "Python 3",
   "language": "python",
   "name": "python3"
  },
  "language_info": {
   "codemirror_mode": {
    "name": "ipython",
    "version": 3
   },
   "file_extension": ".py",
   "mimetype": "text/x-python",
   "name": "python",
   "nbconvert_exporter": "python",
   "pygments_lexer": "ipython3",
   "version": "3.8.1"
  }
 },
 "nbformat": 4,
 "nbformat_minor": 4
}
